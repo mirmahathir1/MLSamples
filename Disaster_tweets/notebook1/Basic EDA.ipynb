{
 "cells": [
  {
   "cell_type": "markdown",
   "metadata": {},
   "source": [
    "### Basic Intro \n",
    "\n",
    "In this competition, you’re challenged to build a machine learning model that predicts which Tweets are about real disasters and which one’s aren’t.\n",
    "\n",
    "![](https://encrypted-tbn0.gstatic.com/images?q=tbn%3AANd9GcTigQWzoYCNiDyrz1BN4WTf2X2k9OZ_yvW-FsmcIMsdS9fppNmh)"
   ]
  },
  {
   "cell_type": "markdown",
   "metadata": {},
   "source": [
    "## What's in this kernel?\n",
    "- Basic EDA\n",
    "- Data Cleaning\n",
    "- Baseline Model"
   ]
  },
  {
   "cell_type": "markdown",
   "metadata": {},
   "source": [
    "### Importing required Libraries."
   ]
  },
  {
   "cell_type": "code",
   "execution_count": 22,
   "metadata": {},
   "outputs": [],
   "source": [
    "import pandas as pd\n",
    "import matplotlib.pyplot as plt\n",
    "import seaborn as sns\n",
    "import numpy as np\n",
    "from nltk.corpus import stopwords\n",
    "from nltk.util import ngrams\n",
    "from sklearn.feature_extraction.text import CountVectorizer\n",
    "from collections import defaultdict\n",
    "from collections import  Counter\n",
    "plt.style.use('ggplot')\n",
    "stop=set(stopwords.words('english'))\n",
    "import gensim\n",
    "import string\n"
   ]
  },
  {
   "cell_type": "markdown",
   "metadata": {},
   "source": [
    "## Loading the data and getting basic idea "
   ]
  },
  {
   "cell_type": "code",
   "execution_count": 23,
   "metadata": {},
   "outputs": [
    {
     "data": {
      "text/html": [
       "<div>\n",
       "<style scoped>\n",
       "    .dataframe tbody tr th:only-of-type {\n",
       "        vertical-align: middle;\n",
       "    }\n",
       "\n",
       "    .dataframe tbody tr th {\n",
       "        vertical-align: top;\n",
       "    }\n",
       "\n",
       "    .dataframe thead th {\n",
       "        text-align: right;\n",
       "    }\n",
       "</style>\n",
       "<table border=\"1\" class=\"dataframe\">\n",
       "  <thead>\n",
       "    <tr style=\"text-align: right;\">\n",
       "      <th></th>\n",
       "      <th>id</th>\n",
       "      <th>keyword</th>\n",
       "      <th>location</th>\n",
       "      <th>text</th>\n",
       "      <th>target</th>\n",
       "    </tr>\n",
       "  </thead>\n",
       "  <tbody>\n",
       "    <tr>\n",
       "      <th>0</th>\n",
       "      <td>1</td>\n",
       "      <td>NaN</td>\n",
       "      <td>NaN</td>\n",
       "      <td>Our Deeds are the Reason of this #earthquake M...</td>\n",
       "      <td>1</td>\n",
       "    </tr>\n",
       "    <tr>\n",
       "      <th>1</th>\n",
       "      <td>4</td>\n",
       "      <td>NaN</td>\n",
       "      <td>NaN</td>\n",
       "      <td>Forest fire near La Ronge Sask. Canada</td>\n",
       "      <td>1</td>\n",
       "    </tr>\n",
       "    <tr>\n",
       "      <th>2</th>\n",
       "      <td>5</td>\n",
       "      <td>NaN</td>\n",
       "      <td>NaN</td>\n",
       "      <td>All residents asked to 'shelter in place' are ...</td>\n",
       "      <td>1</td>\n",
       "    </tr>\n",
       "    <tr>\n",
       "      <th>3</th>\n",
       "      <td>6</td>\n",
       "      <td>NaN</td>\n",
       "      <td>NaN</td>\n",
       "      <td>13,000 people receive #wildfires evacuation or...</td>\n",
       "      <td>1</td>\n",
       "    </tr>\n",
       "    <tr>\n",
       "      <th>4</th>\n",
       "      <td>7</td>\n",
       "      <td>NaN</td>\n",
       "      <td>NaN</td>\n",
       "      <td>Just got sent this photo from Ruby #Alaska as ...</td>\n",
       "      <td>1</td>\n",
       "    </tr>\n",
       "    <tr>\n",
       "      <th>...</th>\n",
       "      <td>...</td>\n",
       "      <td>...</td>\n",
       "      <td>...</td>\n",
       "      <td>...</td>\n",
       "      <td>...</td>\n",
       "    </tr>\n",
       "    <tr>\n",
       "      <th>7608</th>\n",
       "      <td>10869</td>\n",
       "      <td>NaN</td>\n",
       "      <td>NaN</td>\n",
       "      <td>Two giant cranes holding a bridge collapse int...</td>\n",
       "      <td>1</td>\n",
       "    </tr>\n",
       "    <tr>\n",
       "      <th>7609</th>\n",
       "      <td>10870</td>\n",
       "      <td>NaN</td>\n",
       "      <td>NaN</td>\n",
       "      <td>@aria_ahrary @TheTawniest The out of control w...</td>\n",
       "      <td>1</td>\n",
       "    </tr>\n",
       "    <tr>\n",
       "      <th>7610</th>\n",
       "      <td>10871</td>\n",
       "      <td>NaN</td>\n",
       "      <td>NaN</td>\n",
       "      <td>M1.94 [01:04 UTC]?5km S of Volcano Hawaii. htt...</td>\n",
       "      <td>1</td>\n",
       "    </tr>\n",
       "    <tr>\n",
       "      <th>7611</th>\n",
       "      <td>10872</td>\n",
       "      <td>NaN</td>\n",
       "      <td>NaN</td>\n",
       "      <td>Police investigating after an e-bike collided ...</td>\n",
       "      <td>1</td>\n",
       "    </tr>\n",
       "    <tr>\n",
       "      <th>7612</th>\n",
       "      <td>10873</td>\n",
       "      <td>NaN</td>\n",
       "      <td>NaN</td>\n",
       "      <td>The Latest: More Homes Razed by Northern Calif...</td>\n",
       "      <td>1</td>\n",
       "    </tr>\n",
       "  </tbody>\n",
       "</table>\n",
       "<p>7613 rows × 5 columns</p>\n",
       "</div>"
      ],
      "text/plain": [
       "         id keyword location  \\\n",
       "0         1     NaN      NaN   \n",
       "1         4     NaN      NaN   \n",
       "2         5     NaN      NaN   \n",
       "3         6     NaN      NaN   \n",
       "4         7     NaN      NaN   \n",
       "...     ...     ...      ...   \n",
       "7608  10869     NaN      NaN   \n",
       "7609  10870     NaN      NaN   \n",
       "7610  10871     NaN      NaN   \n",
       "7611  10872     NaN      NaN   \n",
       "7612  10873     NaN      NaN   \n",
       "\n",
       "                                                   text  target  \n",
       "0     Our Deeds are the Reason of this #earthquake M...       1  \n",
       "1                Forest fire near La Ronge Sask. Canada       1  \n",
       "2     All residents asked to 'shelter in place' are ...       1  \n",
       "3     13,000 people receive #wildfires evacuation or...       1  \n",
       "4     Just got sent this photo from Ruby #Alaska as ...       1  \n",
       "...                                                 ...     ...  \n",
       "7608  Two giant cranes holding a bridge collapse int...       1  \n",
       "7609  @aria_ahrary @TheTawniest The out of control w...       1  \n",
       "7610  M1.94 [01:04 UTC]?5km S of Volcano Hawaii. htt...       1  \n",
       "7611  Police investigating after an e-bike collided ...       1  \n",
       "7612  The Latest: More Homes Razed by Northern Calif...       1  \n",
       "\n",
       "[7613 rows x 5 columns]"
      ]
     },
     "execution_count": 23,
     "metadata": {},
     "output_type": "execute_result"
    }
   ],
   "source": [
    "#Load the train and test set from the csv files\n",
    "tweet= pd.read_csv('../../dataset/train.csv')\n",
    "test= pd.read_csv('../../dataset/test.csv')\n",
    "\n",
    "#checking\n",
    "tweet"
   ]
  },
  {
   "cell_type": "code",
   "execution_count": 24,
   "metadata": {},
   "outputs": [
    {
     "name": "stdout",
     "output_type": "stream",
     "text": [
      "There are 7613 rows and 5 columns in train\n",
      "There are 3263 rows and 4 columns in test\n"
     ]
    }
   ],
   "source": [
    "#print the row and column numbers of train and test sets\n",
    "print('There are {} rows and {} columns in train'.format(tweet.shape[0],tweet.shape[1]))\n",
    "print('There are {} rows and {} columns in test'.format(test.shape[0],test.shape[1]))"
   ]
  },
  {
   "cell_type": "markdown",
   "metadata": {},
   "source": [
    "## Class distribution"
   ]
  },
  {
   "cell_type": "markdown",
   "metadata": {},
   "source": [
    "Before we begin with anything else,let's check the class distribution.There are only two classes 0 and 1."
   ]
  },
  {
   "cell_type": "code",
   "execution_count": 25,
   "metadata": {},
   "outputs": [
    {
     "data": {
      "text/plain": [
       "0    4342\n",
       "1    3271\n",
       "Name: target, dtype: int64"
      ]
     },
     "execution_count": 25,
     "metadata": {},
     "output_type": "execute_result"
    }
   ],
   "source": [
    "## plot the class distribution of train set in bar charts\n",
    "\n",
    "# get the count of each class of target\n",
    "# https://pandas.pydata.org/pandas-docs/stable/reference/api/pandas.Series.value_counts.html\n",
    "x=tweet.target.value_counts()\n",
    "\n",
    "#checking\n",
    "x"
   ]
  },
  {
   "cell_type": "code",
   "execution_count": 26,
   "metadata": {},
   "outputs": [
    {
     "data": {
      "text/plain": [
       "Text(0, 0.5, 'samples')"
      ]
     },
     "execution_count": 26,
     "metadata": {},
     "output_type": "execute_result"
    },
    {
     "data": {
      "image/png": "[encoded data removed]",
      "text/plain": [
       "<Figure size 432x288 with 1 Axes>"
      ]
     },
     "metadata": {},
     "output_type": "display_data"
    }
   ],
   "source": [
    "# show the barplot using sns. The X axis should be the index of x and the y axis should be the value of x\n",
    "# https://seaborn.pydata.org/generated/seaborn.barplot.html\n",
    "sns.barplot(x.index,x)\n",
    "\n",
    "# set the label of y axis\n",
    "# https://matplotlib.org/3.2.1/api/_as_gen/matplotlib.pyplot.gca.html\n",
    "# https://matplotlib.org/3.2.1/api/_as_gen/matplotlib.axes.Axes.set_ylabel.html#matplotlib.axes.Axes.set_ylabel\n",
    "plt.gca().set_ylabel('samples')"
   ]
  },
  {
   "cell_type": "markdown",
   "metadata": {},
   "source": [
    "ohh,as expected ! There is a class distribution.There are more tweets with class 0 ( No disaster) than class 1 ( disaster tweets)"
   ]
  },
  {
   "cell_type": "markdown",
   "metadata": {},
   "source": [
    "## Exploratory Data Analysis of tweets"
   ]
  },
  {
   "cell_type": "markdown",
   "metadata": {},
   "source": [
    "First,we will do very basic analysis,that is character level,word level and sentence level analysis."
   ]
  },
  {
   "cell_type": "markdown",
   "metadata": {},
   "source": [
    "### Number of characters in tweets"
   ]
  },
  {
   "cell_type": "code",
   "execution_count": 27,
   "metadata": {},
   "outputs": [
    {
     "data": {
      "text/plain": [
       "0        69\n",
       "1        38\n",
       "2       133\n",
       "3        65\n",
       "4        88\n",
       "       ... \n",
       "7608     83\n",
       "7609    125\n",
       "7610     65\n",
       "7611    137\n",
       "7612     94\n",
       "Name: text, Length: 3271, dtype: int64"
      ]
     },
     "execution_count": 27,
     "metadata": {},
     "output_type": "execute_result"
    }
   ],
   "source": [
    "# get the length of text for each row of the train set which indicate disaster\n",
    "# https://pandas.pydata.org/pandas-docs/stable/reference/api/pandas.Series.str.len.html\n",
    "tweet_len1=tweet[tweet['target']==1]['text'].str.len()\n",
    "\n",
    "#checking\n",
    "tweet_len1"
   ]
  },
  {
   "cell_type": "code",
   "execution_count": 28,
   "metadata": {},
   "outputs": [
    {
     "data": {
      "text/plain": [
       "15       14\n",
       "16       13\n",
       "17       16\n",
       "18       17\n",
       "19       28\n",
       "       ... \n",
       "7581    104\n",
       "7582     80\n",
       "7584    127\n",
       "7587     18\n",
       "7593     60\n",
       "Name: text, Length: 4342, dtype: int64"
      ]
     },
     "execution_count": 28,
     "metadata": {},
     "output_type": "execute_result"
    }
   ],
   "source": [
    "# get the length of text for each row of the train set which indicate non-disaster\n",
    "tweet_len0=tweet[tweet['target']==0]['text'].str.len()\n",
    "\n",
    "#checking\n",
    "tweet_len0"
   ]
  },
  {
   "cell_type": "code",
   "execution_count": 29,
   "metadata": {},
   "outputs": [
    {
     "data": {
      "text/plain": [
       "Text(0.5, 0.98, 'Characters in tweets')"
      ]
     },
     "execution_count": 29,
     "metadata": {},
     "output_type": "execute_result"
    },
    {
     "data": {
      "image/png": "[encoded data removed]",
      "text/plain": [
       "<Figure size 720x360 with 2 Axes>"
      ]
     },
     "metadata": {},
     "output_type": "display_data"
    }
   ],
   "source": [
    "# create two subplots in a row. The figsize of the whole figure should be (10,5)\n",
    "# https://matplotlib.org/3.2.1/api/_as_gen/matplotlib.pyplot.subplots.html\n",
    "fig,(ax1,ax2)=plt.subplots(1,2,figsize=(10,5))\n",
    "\n",
    "# create a histrogram on the first axes of the tweet_len1 with red color\n",
    "# https://matplotlib.org/3.2.1/api/_as_gen/matplotlib.axes.Axes.hist.html\n",
    "ax1.hist(tweet_len1,color='red')\n",
    "\n",
    "# set title for the first subplot\n",
    "# https://matplotlib.org/3.2.1/api/_as_gen/matplotlib.axes.Axes.set_title.html\n",
    "ax1.set_title('disaster tweets')\n",
    "\n",
    "# create a histrogram on the first axes of the tweet_len0 with red color\n",
    "ax2.hist(tweet_len0,color='green')\n",
    "\n",
    "#set title for the second subplot\n",
    "ax2.set_title('Not disaster tweets')\n",
    "\n",
    "# set title of the whole figure\n",
    "# https://matplotlib.org/3.2.1/api/_as_gen/matplotlib.pyplot.suptitle.html\n",
    "fig.suptitle('Characters in tweets')"
   ]
  },
  {
   "cell_type": "code",
   "execution_count": null,
   "metadata": {},
   "outputs": [],
   "source": []
  },
  {
   "cell_type": "markdown",
   "metadata": {},
   "source": [
    "The distribution of both seems to be almost same.120 t0 140 characters in a tweet are the most common among both."
   ]
  },
  {
   "cell_type": "markdown",
   "metadata": {},
   "source": [
    "### Number of words in a tweet"
   ]
  },
  {
   "cell_type": "code",
   "execution_count": 30,
   "metadata": {},
   "outputs": [
    {
     "name": "stdout",
     "output_type": "stream",
     "text": [
      "0       13\n",
      "1        7\n",
      "2       22\n",
      "3        8\n",
      "4       16\n",
      "        ..\n",
      "7608    11\n",
      "7609    20\n",
      "7610     8\n",
      "7611    19\n",
      "7612    13\n",
      "Name: text, Length: 3271, dtype: int64\n"
     ]
    }
   ],
   "source": [
    "# get the number of words in the text of each tweet of the train set which indicate a disaster\n",
    "# https://pandas.pydata.org/pandas-docs/stable/reference/api/pandas.Series.str.html\n",
    "# https://docs.python.org/3/library/stdtypes.html#str.split\n",
    "# https://pandas.pydata.org/pandas-docs/stable/reference/api/pandas.Series.map.html\n",
    "# https://docs.python.org/3/reference/expressions.html see the lambda expression\n",
    "# https://docs.python.org/3/library/functions.html#len\n",
    "tweet_len1=tweet[tweet['target']==1]['text'].str.split().map(lambda x: len(x))\n",
    "\n",
    "#checking\n",
    "print(tweet_len1)"
   ]
  },
  {
   "cell_type": "code",
   "execution_count": 31,
   "metadata": {},
   "outputs": [
    {
     "name": "stdout",
     "output_type": "stream",
     "text": [
      "15       3\n",
      "16       3\n",
      "17       3\n",
      "18       5\n",
      "19       3\n",
      "        ..\n",
      "7581    13\n",
      "7582    11\n",
      "7584    13\n",
      "7587     2\n",
      "7593    12\n",
      "Name: text, Length: 4342, dtype: int64\n"
     ]
    }
   ],
   "source": [
    "# get the number of words in the text of each tweet of the train set which indicate a non-disaster\n",
    "tweet_len0=tweet[tweet['target']==0]['text'].str.split().map(lambda x: len(x))\n",
    "\n",
    "#checking\n",
    "print(tweet_len0)"
   ]
  },
  {
   "cell_type": "code",
   "execution_count": 32,
   "metadata": {},
   "outputs": [
    {
     "data": {
      "text/plain": [
       "Text(0.5, 0.98, 'Words in a tweet')"
      ]
     },
     "execution_count": 32,
     "metadata": {},
     "output_type": "execute_result"
    },
    {
     "data": {
      "image/png": "[encoded data removed]",
      "text/plain": [
       "<Figure size 720x360 with 2 Axes>"
      ]
     },
     "metadata": {},
     "output_type": "display_data"
    }
   ],
   "source": [
    "#create two subplots in a row. The figsize of the whole figure should be (10,5)\n",
    "fig,(ax1,ax2)=plt.subplots(1,2,figsize=(10,5))\n",
    "\n",
    "# plot a histogram of tweet_len1 on the first subplot in red\n",
    "ax1.hist(tweet_len1,color='red')\n",
    "\n",
    "#set the title of the first subplot\n",
    "ax1.set_title('disaster tweets')\n",
    "\n",
    "# plot a histogram of tweet_len0 on the second subplot in green\n",
    "ax2.hist(tweet_len0,color='green')\n",
    "\n",
    "# set title of the second subplot\n",
    "ax2.set_title('Not disaster tweets')\n",
    "\n",
    "#set title of the whole figure\n",
    "fig.suptitle('Words in a tweet')"
   ]
  },
  {
   "cell_type": "markdown",
   "metadata": {},
   "source": [
    "###  Average word length in a tweet"
   ]
  },
  {
   "cell_type": "code",
   "execution_count": 33,
   "metadata": {},
   "outputs": [
    {
     "data": {
      "text/plain": [
       "0                [3, 5, 3, 3, 6, 2, 4, 11, 3, 5, 7, 2, 3]\n",
       "1                                   [6, 4, 4, 2, 5, 5, 6]\n",
       "2       [3, 9, 5, 2, 8, 2, 6, 3, 5, 8, 2, 9, 2, 5, 10,...\n",
       "3                             [6, 6, 7, 10, 10, 6, 2, 10]\n",
       "4       [4, 3, 4, 4, 5, 4, 4, 7, 2, 5, 4, 10, 5, 4, 1, 6]\n",
       "                              ...                        \n",
       "7608                   [3, 5, 6, 7, 1, 6, 8, 4, 6, 5, 22]\n",
       "7609    [12, 12, 3, 3, 2, 7, 4, 5, 2, 10, 4, 2, 3, 8, ...\n",
       "7610                            [5, 6, 8, 1, 2, 7, 7, 22]\n",
       "7611    [6, 13, 5, 2, 6, 8, 4, 1, 3, 2, 6, 9, 6, 5, 8,...\n",
       "7612            [3, 7, 4, 5, 5, 2, 8, 10, 8, 1, 3, 4, 22]\n",
       "Name: text, Length: 3271, dtype: object"
      ]
     },
     "execution_count": 33,
     "metadata": {},
     "output_type": "execute_result"
    }
   ],
   "source": [
    "# get the length of individual words of each tweet which indicates a disaster\n",
    "# https://pandas.pydata.org/pandas-docs/stable/reference/api/pandas.Series.apply.html\n",
    "# keywords: str split lambda len\n",
    "word_len1=tweet[tweet['target']==1]['text'].str.split().apply(lambda x : [len(i) for i in x])\n",
    "\n",
    "#checking\n",
    "word_len1"
   ]
  },
  {
   "cell_type": "code",
   "execution_count": 34,
   "metadata": {},
   "outputs": [
    {
     "data": {
      "text/plain": [
       "15                                       [6, 2, 4]\n",
       "16                                       [1, 4, 6]\n",
       "17                                       [6, 2, 6]\n",
       "18                                 [2, 3, 2, 2, 4]\n",
       "19                                      [4, 1, 21]\n",
       "                           ...                    \n",
       "7581    [11, 5, 10, 2, 3, 7, 4, 3, 8, 7, 2, 8, 22]\n",
       "7582            [7, 6, 1, 5, 4, 7, 8, 5, 1, 4, 22]\n",
       "7584    [5, 5, 3, 5, 2, 8, 9, 7, 7, 8, 13, 20, 23]\n",
       "7587                                       [6, 11]\n",
       "7593          [1, 4, 5, 1, 6, 4, 4, 3, 8, 2, 6, 5]\n",
       "Name: text, Length: 4342, dtype: object"
      ]
     },
     "execution_count": 34,
     "metadata": {},
     "output_type": "execute_result"
    }
   ],
   "source": [
    "# get the length of individual words of each tweet which indicates a non-disaster\n",
    "word_len0=tweet[tweet['target']==0]['text'].str.split().apply(lambda x : [len(i) for i in x])\n",
    "\n",
    "#checking\n",
    "word_len0"
   ]
  },
  {
   "cell_type": "code",
   "execution_count": 35,
   "metadata": {},
   "outputs": [
    {
     "data": {
      "text/plain": [
       "Text(0.5, 0.98, 'Average word length in each tweet')"
      ]
     },
     "execution_count": 35,
     "metadata": {},
     "output_type": "execute_result"
    },
    {
     "data": {
      "image/png": "[encoded data removed]",
      "text/plain": [
       "<Figure size 720x360 with 2 Axes>"
      ]
     },
     "metadata": {},
     "output_type": "display_data"
    }
   ],
   "source": [
    "# create two subplots in a row. The figsize of the whole figure should be (10,5)\n",
    "fig,(ax1,ax2)=plt.subplots(1,2,figsize=(10,5))\n",
    "\n",
    "# 'word_len1' is a 2D array. map this array into a 1D array consisting of the averages of each row\n",
    "# plot the average length of words on a red distribution plot using seaborn and set the axis to be ax1. \n",
    "# https://seaborn.pydata.org/generated/seaborn.distplot.html\n",
    "# https://numpy.org/devdocs/reference/generated/numpy.mean.html\n",
    "sns.distplot(word_len1.map(lambda x: np.mean(x)),ax=ax1,color='red')\n",
    "\n",
    "# set title of the first subplot\n",
    "ax1.set_title('disaster')\n",
    "\n",
    "# plot the average length of words on a green distribution using seaborn and set the axis to be ax2. \n",
    "sns.distplot(word_len0.map(lambda x: np.mean(x)),ax=ax2,color='green')\n",
    "\n",
    "# set title of the second subplot\n",
    "ax2.set_title('Not disaster')\n",
    "\n",
    "# set title for the whole figure\n",
    "fig.suptitle('Average word length in each tweet')"
   ]
  },
  {
   "cell_type": "code",
   "execution_count": 36,
   "metadata": {},
   "outputs": [
    {
     "name": "stdout",
     "output_type": "stream",
     "text": [
      "63848\n",
      "[\"What's\", 'up', 'man?', 'I', 'love', 'fruits', 'Summer', 'is', 'lovely', 'My']\n"
     ]
    }
   ],
   "source": [
    "def create_corpus(target):\n",
    "    \n",
    "    #initialize corpus as an empty list\n",
    "    corpus=[]\n",
    "    \n",
    "    # get the text of the tweets that matches with the target and append each word to the corpus \n",
    "    # keywords: str split\n",
    "    for x in tweet[tweet['target']==target]['text'].str.split():\n",
    "        for i in x:\n",
    "            corpus.append(i)\n",
    "    return corpus\n",
    "\n",
    "# create corpus for non-disaster tweets\n",
    "corpus=create_corpus(0)\n",
    "\n",
    "#checking\n",
    "print(len(corpus))\n",
    "print(corpus[:10])"
   ]
  },
  {
   "cell_type": "markdown",
   "metadata": {},
   "source": [
    "### Common stopwords in tweets"
   ]
  },
  {
   "cell_type": "markdown",
   "metadata": {},
   "source": [
    "First we  will analyze tweets with class 0 which is done above"
   ]
  },
  {
   "cell_type": "code",
   "execution_count": 37,
   "metadata": {},
   "outputs": [
    {
     "data": {
      "text/plain": [
       "defaultdict(int, {})"
      ]
     },
     "execution_count": 37,
     "metadata": {},
     "output_type": "execute_result"
    }
   ],
   "source": [
    "# initialize a dictionary which should have strings as keys and integers as values\n",
    "# https://docs.python.org/3/library/collections.html#collections.defaultdict\n",
    "dic=defaultdict(int)\n",
    "\n",
    "#checking\n",
    "dic"
   ]
  },
  {
   "cell_type": "code",
   "execution_count": 43,
   "metadata": {},
   "outputs": [
    {
     "name": "stdout",
     "output_type": "stream",
     "text": [
      "[('up', 1002), ('is', 3072), ('so', 1140), ('a', 6690), ('this', 1350), ('that', 1956), ('in', 4320), ('my', 2652), ('you', 3174), ('to', 6594)]\n"
     ]
    },
    {
     "data": {
      "text/plain": [
       "defaultdict(int,\n",
       "            {'up': 1002,\n",
       "             'is': 3072,\n",
       "             'so': 1140,\n",
       "             'a': 6690,\n",
       "             'this': 1350,\n",
       "             'that': 1956,\n",
       "             'in': 4320,\n",
       "             'my': 2652,\n",
       "             'you': 3174,\n",
       "             'to': 6594,\n",
       "             'the': 9144,\n",
       "             'out': 1032,\n",
       "             'for': 2712,\n",
       "             'me': 1170,\n",
       "             'but': 1062,\n",
       "             'they': 606,\n",
       "             'will': 876,\n",
       "             'these': 192,\n",
       "             'on': 2322,\n",
       "             \"you're\": 294,\n",
       "             'and': 5040,\n",
       "             'an': 720,\n",
       "             'of': 5004,\n",
       "             'with': 2094,\n",
       "             'not': 972,\n",
       "             'your': 1206,\n",
       "             'have': 1314,\n",
       "             'them': 282,\n",
       "             'at': 1272,\n",
       "             'has': 786,\n",
       "             'our': 306,\n",
       "             'was': 1230,\n",
       "             'be': 1608,\n",
       "             'if': 642,\n",
       "             'yours': 96,\n",
       "             'by': 1350,\n",
       "             'about': 768,\n",
       "             'their': 306,\n",
       "             'what': 486,\n",
       "             'does': 96,\n",
       "             \"don't\": 528,\n",
       "             'can': 642,\n",
       "             'it': 1740,\n",
       "             \"it's\": 510,\n",
       "             'how': 456,\n",
       "             \"didn't\": 90,\n",
       "             'as': 858,\n",
       "             'we': 636,\n",
       "             'some': 330,\n",
       "             'all': 780,\n",
       "             'over': 306,\n",
       "             'when': 636,\n",
       "             'him': 210,\n",
       "             'were': 180,\n",
       "             'or': 834,\n",
       "             'who': 366,\n",
       "             'himself': 36,\n",
       "             'further': 6,\n",
       "             'once': 84,\n",
       "             'no': 660,\n",
       "             'from': 996,\n",
       "             'most': 144,\n",
       "             'more': 438,\n",
       "             'because': 276,\n",
       "             'i': 684,\n",
       "             'any': 168,\n",
       "             'been': 552,\n",
       "             'very': 84,\n",
       "             'do': 534,\n",
       "             'just': 1158,\n",
       "             'doing': 126,\n",
       "             'only': 258,\n",
       "             'between': 30,\n",
       "             'are': 1170,\n",
       "             'same': 138,\n",
       "             'off': 306,\n",
       "             'should': 300,\n",
       "             'those': 102,\n",
       "             'than': 300,\n",
       "             'am': 198,\n",
       "             'until': 126,\n",
       "             'there': 330,\n",
       "             'while': 168,\n",
       "             'where': 162,\n",
       "             'its': 210,\n",
       "             \"won't\": 84,\n",
       "             'other': 96,\n",
       "             'then': 294,\n",
       "             'why': 288,\n",
       "             \"wasn't\": 54,\n",
       "             'down': 222,\n",
       "             'into': 558,\n",
       "             'after': 396,\n",
       "             'during': 78,\n",
       "             \"you've\": 30,\n",
       "             'had': 318,\n",
       "             'did': 252,\n",
       "             \"haven't\": 60,\n",
       "             'here': 156,\n",
       "             'under': 72,\n",
       "             'which': 126,\n",
       "             'own': 84,\n",
       "             'he': 642,\n",
       "             'against': 102,\n",
       "             'o': 12,\n",
       "             'being': 246,\n",
       "             'too': 240,\n",
       "             'she': 180,\n",
       "             'again': 114,\n",
       "             \"she's\": 84,\n",
       "             'his': 516,\n",
       "             \"doesn't\": 90,\n",
       "             'won': 36,\n",
       "             'before': 150,\n",
       "             \"you'll\": 54,\n",
       "             'few': 96,\n",
       "             'now': 438,\n",
       "             'through': 114,\n",
       "             \"isn't\": 30,\n",
       "             'her': 492,\n",
       "             \"aren't\": 72,\n",
       "             'yourself': 96,\n",
       "             'such': 108,\n",
       "             \"hasn't\": 54,\n",
       "             \"shouldn't\": 42,\n",
       "             \"should've\": 12,\n",
       "             'having': 108,\n",
       "             'myself': 102,\n",
       "             'both': 84,\n",
       "             \"you'd\": 24,\n",
       "             'each': 42,\n",
       "             'nor': 12,\n",
       "             \"weren't\": 12,\n",
       "             'below': 24,\n",
       "             'themselves': 24,\n",
       "             've': 6,\n",
       "             't': 6,\n",
       "             'd': 30,\n",
       "             're': 6,\n",
       "             'y': 12,\n",
       "             'itself': 24,\n",
       "             \"couldn't\": 18,\n",
       "             \"hadn't\": 6,\n",
       "             'yourselves': 6,\n",
       "             \"wouldn't\": 30,\n",
       "             'ourselves': 6,\n",
       "             'above': 18,\n",
       "             'm': 6})"
      ]
     },
     "execution_count": 43,
     "metadata": {},
     "output_type": "execute_result"
    }
   ],
   "source": [
    "#save each stopword as key and the count of the respective stopword as the value in the dictionary.\n",
    "#'stop' is the list of all stopwords\n",
    "for word in corpus:\n",
    "    if word in stop:\n",
    "        dic[word]+=1\n",
    "        \n",
    "#checking\n",
    "# print(type(dic))\n",
    "# print(len(dic.items()))\n",
    "print(list(dic.items())[:10])\n",
    "\n",
    "dic"
   ]
  },
  {
   "cell_type": "code",
   "execution_count": 18,
   "metadata": {},
   "outputs": [
    {
     "data": {
      "text/plain": [
       "[('the', 1524),\n",
       " ('a', 1115),\n",
       " ('to', 1099),\n",
       " ('and', 840),\n",
       " ('of', 834),\n",
       " ('in', 720),\n",
       " ('you', 529),\n",
       " ('is', 512),\n",
       " ('for', 452),\n",
       " ('my', 442)]"
      ]
     },
     "execution_count": 18,
     "metadata": {},
     "output_type": "execute_result"
    }
   ],
   "source": [
    "#get the top 10 stopwords along with their counts\n",
    "# https://docs.python.org/3/howto/sorting.html\n",
    "# use a lambda expression to determine the key, use reverse.\n",
    "top=sorted(dic.items(), key=lambda x:x[1],reverse=True)[:10]\n",
    "\n",
    "#checking\n",
    "top"
   ]
  },
  {
   "cell_type": "code",
   "execution_count": 19,
   "metadata": {},
   "outputs": [
    {
     "name": "stdout",
     "output_type": "stream",
     "text": [
      "('the', 'a', 'to', 'and', 'of', 'in', 'you', 'is', 'for', 'my')\n",
      "(1524, 1115, 1099, 840, 834, 720, 529, 512, 452, 442)\n"
     ]
    }
   ],
   "source": [
    "# https://docs.python.org/3/library/functions.html#zip\n",
    "# use zip(*) to unzip the values of top\n",
    "x,y=zip(*top)\n",
    "\n",
    "#checking\n",
    "print(x)\n",
    "print(y)"
   ]
  },
  {
   "cell_type": "code",
   "execution_count": 20,
   "metadata": {},
   "outputs": [
    {
     "data": {
      "text/plain": [
       "<BarContainer object of 10 artists>"
      ]
     },
     "execution_count": 20,
     "metadata": {},
     "output_type": "execute_result"
    },
    {
     "data": {
      "image/png": "[encoded data removed]",
      "text/plain": [
       "<Figure size 432x288 with 1 Axes>"
      ]
     },
     "metadata": {},
     "output_type": "display_data"
    }
   ],
   "source": [
    "# plot the top 10 stopwords and their counts using pyplot\n",
    "# https://matplotlib.org/3.1.1/api/_as_gen/matplotlib.pyplot.bar.html\n",
    "plt.bar(x,y)"
   ]
  },
  {
   "cell_type": "markdown",
   "metadata": {},
   "source": [
    "Now,we will analyze tweets with class 1."
   ]
  },
  {
   "cell_type": "code",
   "execution_count": 21,
   "metadata": {},
   "outputs": [
    {
     "name": "stdout",
     "output_type": "stream",
     "text": [
      "138\n",
      "[('are', 150), ('the', 1051), ('of', 888), ('this', 110), ('all', 48), ('to', 706), ('in', 1037), ('being', 26), ('by', 244), ('other', 15)]\n"
     ]
    }
   ],
   "source": [
    "# create corpus for disaster tweets\n",
    "corpus=create_corpus(1)\n",
    "\n",
    "#initialize a dictionary which should have strings as keys and integers as values\n",
    "dic=defaultdict(int)\n",
    "\n",
    "# save each stopword as key and the count of the respective stopword as the value in the dictionary.\n",
    "# 'stop' is the list of all stopwords\n",
    "for word in corpus:\n",
    "    if word in stop:\n",
    "        dic[word]+=1\n",
    "\n",
    "# checking\n",
    "print(len(dic.items()))\n",
    "print(list(dic.items())[:10])\n",
    "        "
   ]
  },
  {
   "cell_type": "code",
   "execution_count": 22,
   "metadata": {},
   "outputs": [
    {
     "data": {
      "text/plain": [
       "[('the', 1051),\n",
       " ('in', 1037),\n",
       " ('of', 888),\n",
       " ('a', 730),\n",
       " ('to', 706),\n",
       " ('and', 462),\n",
       " ('on', 386),\n",
       " ('for', 368),\n",
       " ('is', 302),\n",
       " ('at', 273)]"
      ]
     },
     "execution_count": 22,
     "metadata": {},
     "output_type": "execute_result"
    }
   ],
   "source": [
    "# get the top 10 stopwords along with their counts\n",
    "top=sorted(dic.items(), key=lambda x:x[1],reverse=True)[:10] \n",
    "\n",
    "# checking\n",
    "top"
   ]
  },
  {
   "cell_type": "code",
   "execution_count": 23,
   "metadata": {},
   "outputs": [
    {
     "name": "stdout",
     "output_type": "stream",
     "text": [
      "('the', 'in', 'of', 'a', 'to', 'and', 'on', 'for', 'is', 'at')\n",
      "(1051, 1037, 888, 730, 706, 462, 386, 368, 302, 273)\n"
     ]
    }
   ],
   "source": [
    "# use zip(*) to unzip the values of top\n",
    "x,y=zip(*top)\n",
    "\n",
    "#checking\n",
    "print(x)\n",
    "print(y)"
   ]
  },
  {
   "cell_type": "code",
   "execution_count": 24,
   "metadata": {},
   "outputs": [
    {
     "data": {
      "text/plain": [
       "<BarContainer object of 10 artists>"
      ]
     },
     "execution_count": 24,
     "metadata": {},
     "output_type": "execute_result"
    },
    {
     "data": {
      "image/png": "[encoded data removed]",
      "text/plain": [
       "<Figure size 432x288 with 1 Axes>"
      ]
     },
     "metadata": {},
     "output_type": "display_data"
    }
   ],
   "source": [
    "# plot the top 10 stopwords and their counts using pyplot\n",
    "plt.bar(x,y)"
   ]
  },
  {
   "cell_type": "markdown",
   "metadata": {},
   "source": [
    "In both of them,\"the\" dominates which is followed by \"a\" in class 0 and \"in\" in class 1."
   ]
  },
  {
   "cell_type": "markdown",
   "metadata": {},
   "source": [
    "### Analyzing punctuations."
   ]
  },
  {
   "cell_type": "markdown",
   "metadata": {},
   "source": [
    "First let's check tweets indicating real disaster."
   ]
  },
  {
   "cell_type": "code",
   "execution_count": 25,
   "metadata": {},
   "outputs": [
    {
     "data": {
      "text/plain": [
       "'!\"#$%&\\'()*+,-./:;<=>?@[\\\\]^_`{|}~'"
      ]
     },
     "execution_count": 25,
     "metadata": {},
     "output_type": "execute_result"
    }
   ],
   "source": [
    "#create corpus for disaster-tweets\n",
    "corpus=create_corpus(1)\n",
    "\n",
    "#initialize a dictionary which should have strings as keys and integers as values\n",
    "dic=defaultdict(int)\n",
    "\n",
    "import string\n",
    "\n",
    "#get puncutation marks from the string module\n",
    "special = string.punctuation\n",
    "\n",
    "# checking\n",
    "special"
   ]
  },
  {
   "cell_type": "code",
   "execution_count": 26,
   "metadata": {},
   "outputs": [
    {
     "name": "stdout",
     "output_type": "stream",
     "text": [
      "18\n",
      "[('=>', 1), ('-', 389), (':', 31), ('?', 11), ('.', 7), ('|', 51), ('+', 7), ('#', 2), ('!', 6), (']', 2), (')', 1), (\"'\", 5), (';', 3), ('/', 18), ('=', 4), ('@', 9), ('~', 14), ('*', 3)]\n"
     ]
    }
   ],
   "source": [
    "#save the punctuation mark as key and it's count in the corpus as value in the dictionary\n",
    "for i in (corpus):\n",
    "    if i in special:\n",
    "        dic[i]+=1\n",
    "\n",
    "# checking\n",
    "print(len(dic.items()))\n",
    "print(list(dic.items()))"
   ]
  },
  {
   "cell_type": "code",
   "execution_count": 27,
   "metadata": {},
   "outputs": [
    {
     "name": "stdout",
     "output_type": "stream",
     "text": [
      "('=>', '-', ':', '?', '.', '|', '+', '#', '!', ']', ')', \"'\", ';', '/', '=', '@', '~', '*')\n",
      "(1, 389, 31, 11, 7, 51, 7, 2, 6, 2, 1, 5, 3, 18, 4, 9, 14, 3)\n"
     ]
    },
    {
     "data": {
      "text/plain": [
       "<Figure size 720x360 with 0 Axes>"
      ]
     },
     "metadata": {},
     "output_type": "display_data"
    }
   ],
   "source": [
    "# initialize a pyplot figure with figsize (10,5)\n",
    "# https://matplotlib.org/3.2.1/api/_as_gen/matplotlib.pyplot.figure.html\n",
    "plt.figure(figsize=(10,5)) \n",
    "\n",
    "# use zip(*) to unzip dic.items()\n",
    "x,y=zip(*dic.items())\n",
    "\n",
    "#checking\n",
    "print(x)\n",
    "print(y)"
   ]
  },
  {
   "cell_type": "code",
   "execution_count": 28,
   "metadata": {},
   "outputs": [
    {
     "data": {
      "text/plain": [
       "<BarContainer object of 18 artists>"
      ]
     },
     "execution_count": 28,
     "metadata": {},
     "output_type": "execute_result"
    },
    {
     "data": {
      "image/png": "[encoded data removed]",
      "text/plain": [
       "<Figure size 432x288 with 1 Axes>"
      ]
     },
     "metadata": {},
     "output_type": "display_data"
    }
   ],
   "source": [
    "# plot the counts on the y axis in red and the punctuation marks on the x axis\n",
    "plt.bar(x,y)"
   ]
  },
  {
   "cell_type": "markdown",
   "metadata": {},
   "source": [
    "Now,we will move on to class 0."
   ]
  },
  {
   "cell_type": "code",
   "execution_count": 29,
   "metadata": {},
   "outputs": [
    {
     "name": "stdout",
     "output_type": "stream",
     "text": [
      "20\n",
      "[('-', 374), ('|', 91), (':', 30), ('@', 18), ('+', 24), ('.', 12), ('~', 7), ('?', 26), ('/:', 1), ('!', 12), ('/', 17), ('#', 5), ('=', 13), (\"'\", 6), ('*', 11), ('(', 5), (')', 2), ('_', 1), ('$', 1), ('%', 1)]\n"
     ]
    }
   ],
   "source": [
    "#create corpus for disaster-tweets\n",
    "corpus=create_corpus(0)\n",
    "\n",
    "#initialize a dictionary which should have strings as keys and integers as values\n",
    "dic=defaultdict(int)\n",
    "\n",
    "import string\n",
    "\n",
    "#get puncutation marks from the string module\n",
    "special = string.punctuation\n",
    "\n",
    "#save the punctuation mark as key and it's count in the corpus as value in the dictionary\n",
    "for i in (corpus):\n",
    "    if i in special:\n",
    "        dic[i]+=1\n",
    "        \n",
    "# checking\n",
    "print(len(dic.items()))\n",
    "print(list(dic.items()))"
   ]
  },
  {
   "cell_type": "code",
   "execution_count": 30,
   "metadata": {},
   "outputs": [
    {
     "name": "stdout",
     "output_type": "stream",
     "text": [
      "('-', '|', ':', '@', '+', '.', '~', '?', '/:', '!', '/', '#', '=', \"'\", '*', '(', ')', '_', '$', '%')\n",
      "(374, 91, 30, 18, 24, 12, 7, 26, 1, 12, 17, 5, 13, 6, 11, 5, 2, 1, 1, 1)\n"
     ]
    },
    {
     "data": {
      "text/plain": [
       "<Figure size 720x360 with 0 Axes>"
      ]
     },
     "metadata": {},
     "output_type": "display_data"
    }
   ],
   "source": [
    "#initialize a pyplot figure with figsize (10,5)\n",
    "plt.figure(figsize=(10,5))\n",
    "        \n",
    "# use zip(*) to unzip the values of top\n",
    "x,y=zip(*dic.items())\n",
    "\n",
    "#checking\n",
    "print(x)\n",
    "print(y)"
   ]
  },
  {
   "cell_type": "code",
   "execution_count": 31,
   "metadata": {},
   "outputs": [
    {
     "data": {
      "text/plain": [
       "<BarContainer object of 20 artists>"
      ]
     },
     "execution_count": 31,
     "metadata": {},
     "output_type": "execute_result"
    },
    {
     "data": {
      "image/png": "[encoded data removed]",
      "text/plain": [
       "<Figure size 432x288 with 1 Axes>"
      ]
     },
     "metadata": {},
     "output_type": "display_data"
    }
   ],
   "source": [
    "#plot the counts on the y axis in green and the punctuation marks on the x axis\n",
    "plt.bar(x,y,color='green')"
   ]
  },
  {
   "cell_type": "markdown",
   "metadata": {},
   "source": [
    "### Common words ?"
   ]
  },
  {
   "cell_type": "code",
   "execution_count": 32,
   "metadata": {},
   "outputs": [
    {
     "name": "stdout",
     "output_type": "stream",
     "text": [
      "<class 'collections.Counter'>\n",
      "20560\n",
      "[(\"What's\", 12), ('up', 167), ('man?', 1), ('I', 938), ('love', 59), ('fruits', 1), ('Summer', 7), ('is', 512), ('lovely', 2), ('My', 78)]\n"
     ]
    }
   ],
   "source": [
    "# get a Counter object that contains each word and it's count as key-value pairs using 'Counter' module\n",
    "# from the last loaded corpus\n",
    "# https://docs.python.org/3/library/collections.html#collections.Counter\n",
    "counter=Counter(corpus)\n",
    "\n",
    "# checking\n",
    "print(type(counter))\n",
    "print(len(counter.items()))\n",
    "print(list(counter.items())[:10])"
   ]
  },
  {
   "cell_type": "code",
   "execution_count": 33,
   "metadata": {},
   "outputs": [
    {
     "name": "stdout",
     "output_type": "stream",
     "text": [
      "20560\n",
      "[('the', 1524), ('a', 1115), ('to', 1099), ('I', 938), ('and', 840), ('of', 834), ('in', 720), ('you', 529), ('is', 512), ('for', 452)]\n"
     ]
    }
   ],
   "source": [
    "# get the most common words and their counts\n",
    "# https://docs.python.org/3/library/collections.html#collections.Counter see most_common\n",
    "most=counter.most_common()\n",
    "\n",
    "# checking\n",
    "print(len(most))\n",
    "print(most[:10])"
   ]
  },
  {
   "cell_type": "code",
   "execution_count": 34,
   "metadata": {},
   "outputs": [
    {
     "name": "stdout",
     "output_type": "stream",
     "text": [
      "[]\n",
      "[]\n"
     ]
    }
   ],
   "source": [
    "#initialize x and y as empty lists\n",
    "x=[]\n",
    "y=[]\n",
    "\n",
    "#checking\n",
    "print(x)\n",
    "print(y)"
   ]
  },
  {
   "cell_type": "code",
   "execution_count": 35,
   "metadata": {},
   "outputs": [
    {
     "name": "stdout",
     "output_type": "stream",
     "text": [
      "['I', '-', 'The', 'like', '&amp;', \"I'm\", '??', 'get']\n",
      "[938, 374, 295, 233, 190, 185, 183, 142]\n"
     ]
    }
   ],
   "source": [
    "#loop through the top 40 words haveing the highest count,\n",
    "for word,count in most[:40]:\n",
    "    \n",
    "    # append the word with x and append it's count with y if the word is not a stop word\n",
    "    if (word not in stop) :\n",
    "        x.append(word)\n",
    "        y.append(count)\n",
    "\n",
    "#checking\n",
    "print(x)\n",
    "print(y)"
   ]
  },
  {
   "cell_type": "code",
   "execution_count": 36,
   "metadata": {},
   "outputs": [
    {
     "data": {
      "text/plain": [
       "<matplotlib.axes._subplots.AxesSubplot at 0x7ff4299897f0>"
      ]
     },
     "execution_count": 36,
     "metadata": {},
     "output_type": "execute_result"
    },
    {
     "data": {
      "image/png": "[encoded data removed]",
      "text/plain": [
       "<Figure size 432x288 with 1 Axes>"
      ]
     },
     "metadata": {},
     "output_type": "display_data"
    }
   ],
   "source": [
    "# show a barplot using seaborn where the y axis represents each word and x axis represents the counts of each word\n",
    "sns.barplot(x=y,y=x)"
   ]
  },
  {
   "cell_type": "markdown",
   "metadata": {},
   "source": [
    "Lot of cleaning needed !"
   ]
  },
  {
   "cell_type": "markdown",
   "metadata": {},
   "source": [
    "### Ngram analysis"
   ]
  },
  {
   "cell_type": "markdown",
   "metadata": {},
   "source": [
    "we will do a bigram (n=2) analysis over the tweets.Let's check the most common bigrams in tweets."
   ]
  },
  {
   "cell_type": "code",
   "execution_count": 37,
   "metadata": {},
   "outputs": [
    {
     "data": {
      "text/plain": [
       "0       Our Deeds are the Reason of this #earthquake M...\n",
       "1                  Forest fire near La Ronge Sask. Canada\n",
       "2       All residents asked to 'shelter in place' are ...\n",
       "3       13,000 people receive #wildfires evacuation or...\n",
       "4       Just got sent this photo from Ruby #Alaska as ...\n",
       "                              ...                        \n",
       "7608    Two giant cranes holding a bridge collapse int...\n",
       "7609    @aria_ahrary @TheTawniest The out of control w...\n",
       "7610    M1.94 [01:04 UTC]?5km S of Volcano Hawaii. htt...\n",
       "7611    Police investigating after an e-bike collided ...\n",
       "7612    The Latest: More Homes Razed by Northern Calif...\n",
       "Name: text, Length: 7613, dtype: object"
      ]
     },
     "execution_count": 37,
     "metadata": {},
     "output_type": "execute_result"
    }
   ],
   "source": [
    "# A bigram or digram is a sequence of two adjacent elements from a string of tokens, \n",
    "# which are typically letters, syllables, or words.\n",
    "# get the list of tuples where each tuple contains two adjacent words and the number of times they appear together\n",
    "# in the text\n",
    "\n",
    "# the corpus is a data-series extracted from a dataframe (The 'text' column of the csv)\n",
    "corpus = tweet['text']\n",
    "\n",
    "# we want to get the top 10 bigrams\n",
    "n=10\n",
    "\n",
    "#checking\n",
    "corpus"
   ]
  },
  {
   "cell_type": "code",
   "execution_count": 38,
   "metadata": {},
   "outputs": [
    {
     "data": {
      "text/plain": [
       "CountVectorizer(ngram_range=(2, 2))"
      ]
     },
     "execution_count": 38,
     "metadata": {},
     "output_type": "execute_result"
    }
   ],
   "source": [
    "# CountVectorizer is used to Convert a collection of text documents to a matrix of \n",
    "# token counts initialize a CountVectorizer object with ngram_range (2,2)\n",
    "# https://scikit-learn.org/stable/modules/generated/sklearn.feature_extraction.text.CountVectorizer.html\n",
    "vectorizer = CountVectorizer(ngram_range=(2, 2))\n",
    "\n",
    "# checking\n",
    "vectorizer"
   ]
  },
  {
   "cell_type": "code",
   "execution_count": 39,
   "metadata": {},
   "outputs": [
    {
     "name": "stdout",
     "output_type": "stream",
     "text": [
      "size of vocabulary, len(vec.vocabulary_.items())= 68496\n",
      "[('our deeds', 45009), ('deeds are', 19448), ('are the', 5238), ('the reason', 57892), ('reason of', 48799), ('of this', 43435), ('this earthquake', 59092), ('earthquake may', 21677), ('may allah', 38297), ('allah forgive', 2932)]\n"
     ]
    }
   ],
   "source": [
    "# get a vocabulary dictionary of all tokens in the raw documents\n",
    "# corpus is the collection of raw documents.\n",
    "# the return value of CountVectorizer.fit is also a CountVectorizer\n",
    "# https://scikit-learn.org/stable/modules/generated/sklearn.feature_extraction.text.CountVectorizer.html#sklearn.feature_extraction.text.CountVectorizer.fit\n",
    "vec = vectorizer.fit(corpus)\n",
    "\n",
    "# the vocabulary is created by taking all the combinations of two words which appear \n",
    "# side by side with each other in the text corpus.\n",
    "# vec.vocabulary_ is a dictionary where each key (a string) represents a single pair \n",
    "# of words appearing side-by-side with each other in the corpus and each value \n",
    "# represents that word-pair's position in the vocabulary. The position is defined by the\n",
    "# alphabetical position of that word-pair in the vocabulary.\n",
    "\n",
    "#checking\n",
    "print(\"size of vocabulary, len(vec.vocabulary_.items())=\",len(vec.vocabulary_.items()))\n",
    "print(list(vec.vocabulary_.items())[:10])"
   ]
  },
  {
   "cell_type": "code",
   "execution_count": 40,
   "metadata": {},
   "outputs": [
    {
     "name": "stdout",
     "output_type": "stream",
     "text": [
      "bag_of_words.shape= (7613, 68496)\n",
      "bag_of_words[:10].toarray():\n",
      " [[0 0 0 ... 0 0 0]\n",
      " [0 0 0 ... 0 0 0]\n",
      " [0 0 0 ... 0 0 0]\n",
      " ...\n",
      " [0 0 0 ... 0 0 0]\n",
      " [0 0 0 ... 0 0 0]\n",
      " [0 0 0 ... 0 0 0]]\n",
      "bag_of_words[0]:\n",
      "   (0, 2932)\t1\n",
      "  (0, 5238)\t1\n",
      "  (0, 19448)\t1\n",
      "  (0, 21677)\t1\n",
      "  (0, 25546)\t1\n",
      "  (0, 38297)\t1\n",
      "  (0, 43435)\t1\n",
      "  (0, 45009)\t1\n",
      "  (0, 48799)\t1\n",
      "  (0, 57892)\t1\n",
      "  (0, 59092)\t1\n",
      "  (0, 62611)\t1\n",
      "type(bag_of_words):\n",
      " <class 'scipy.sparse.csr.csr_matrix'>\n"
     ]
    }
   ],
   "source": [
    "# Transform documents to document-term matrix.\n",
    "# Extract token counts out of raw text document using the vocabulary provided to the constructor.\n",
    "# https://scikit-learn.org/stable/modules/generated/sklearn.feature_extraction.text.CountVectorizer.html#sklearn.feature_extraction.text.CountVectorizer.transform\n",
    "bag_of_words = vec.transform(corpus)\n",
    "    \n",
    "#checking\n",
    "# bag of words has the shape (number of line in corpus,number of items in vocabulary)\n",
    "print(\"bag_of_words.shape=\",bag_of_words.shape)\n",
    "    \n",
    "# bag_of_words is a sparse matrix. Eg. bag_of_words[9] is an array which has \n",
    "# a size equal to the amount of items in the vocabulary. Each 1 in that array indicates\n",
    "# that a word-pair in the 9th text was matched with an item in the vocabulary.\n",
    "# bag_of_words is a 2D array. bag_of_words is also a 2D array but has only one row\n",
    "print(\"bag_of_words[:10].toarray():\\n\",bag_of_words[:10].toarray())\n",
    "print(\"bag_of_words[0]:\\n\",bag_of_words[0])\n",
    "print(\"type(bag_of_words):\\n\",type(bag_of_words))"
   ]
  },
  {
   "cell_type": "code",
   "execution_count": 41,
   "metadata": {},
   "outputs": [
    {
     "name": "stdout",
     "output_type": "stream",
     "text": [
      "sum_words.shape= (1, 68496)\n",
      "[[3 1 2 2 5 1 1 4 1 8]]\n"
     ]
    }
   ],
   "source": [
    "# get the total count of occurences of each word-pair in the corpus.\n",
    "# each row represents a line of text in the corpus\n",
    "# each column represents a word-pair of the vocabulary. So, to get the count of\n",
    "# occurences of each word pair, we need the column-wise sum of the bag_of_words\n",
    "# https://docs.scipy.org/doc/scipy/reference/generated/scipy.sparse.csr_matrix.sum.html\n",
    "sum_words = bag_of_words.sum(axis=0) \n",
    "\n",
    "#checking\n",
    "# sum_words now contains the count of occurences of each word-pair in the corpus\n",
    "# sum_words is a 2D array with only one row.\n",
    "print(\"sum_words.shape=\",sum_words.shape)\n",
    "print(sum_words[0,:10])"
   ]
  },
  {
   "cell_type": "code",
   "execution_count": 42,
   "metadata": {},
   "outputs": [
    {
     "data": {
      "text/plain": [
       "[('our deeds', 1),\n",
       " ('deeds are', 1),\n",
       " ('are the', 16),\n",
       " ('the reason', 2),\n",
       " ('reason of', 2),\n",
       " ('of this', 9),\n",
       " ('this earthquake', 1),\n",
       " ('earthquake may', 1),\n",
       " ('may allah', 3),\n",
       " ('allah forgive', 1)]"
      ]
     },
     "execution_count": 42,
     "metadata": {},
     "output_type": "execute_result"
    }
   ],
   "source": [
    "# create a list of tuples where each item of the tuple\n",
    "# contains the word-pair and it's count of occurence\n",
    "# keywords: for in\n",
    "words_freq = [(word, sum_words[0, idx]) for word, idx in vec.vocabulary_.items()]\n",
    "\n",
    "#checking\n",
    "words_freq[:10]"
   ]
  },
  {
   "cell_type": "code",
   "execution_count": 43,
   "metadata": {},
   "outputs": [
    {
     "data": {
      "text/plain": [
       "[('http co', 4306),\n",
       " ('https co', 410),\n",
       " ('in the', 308),\n",
       " ('of the', 256),\n",
       " ('û_ http', 217),\n",
       " ('on the', 129),\n",
       " ('to the', 126),\n",
       " ('to be', 108),\n",
       " ('for the', 97),\n",
       " ('at the', 85)]"
      ]
     },
     "execution_count": 43,
     "metadata": {},
     "output_type": "execute_result"
    }
   ],
   "source": [
    "# sort the list of tuples by the count in descending order\n",
    "# keywords: sorted lambda\n",
    "words_freq_sorted =sorted(words_freq, key = lambda x: x[1], reverse=True)\n",
    "\n",
    "#checking \n",
    "words_freq_sorted[:10]"
   ]
  },
  {
   "cell_type": "code",
   "execution_count": 44,
   "metadata": {},
   "outputs": [
    {
     "data": {
      "text/plain": [
       "[('http co', 4306),\n",
       " ('https co', 410),\n",
       " ('in the', 308),\n",
       " ('of the', 256),\n",
       " ('û_ http', 217),\n",
       " ('on the', 129),\n",
       " ('to the', 126),\n",
       " ('to be', 108),\n",
       " ('for the', 97),\n",
       " ('at the', 85)]"
      ]
     },
     "execution_count": 44,
     "metadata": {},
     "output_type": "execute_result"
    }
   ],
   "source": [
    "# take the first n tuples of word_freq and assign it to top_tweet_bigram\n",
    "top_tweet_bigrams=words_freq_sorted[:n]\n",
    "\n",
    "#checking\n",
    "top_tweet_bigrams"
   ]
  },
  {
   "cell_type": "code",
   "execution_count": 45,
   "metadata": {},
   "outputs": [
    {
     "name": "stdout",
     "output_type": "stream",
     "text": [
      "['http co', 'https co', 'in the', 'of the', 'û_ http', 'on the', 'to the', 'to be', 'for the', 'at the']\n",
      "[4306, 410, 308, 256, 217, 129, 126, 108, 97, 85]\n"
     ]
    }
   ],
   "source": [
    "# convert top_tweet_bigrams into x and y\n",
    "# x is the list of word-pairs from top_tweet_bigram\n",
    "# y is the list of counts from top_tweet_bigram\n",
    "# https://docs.python.org/3/library/functions.html#map\n",
    "# https://docs.python.org/3/library/functions.html#func-list\n",
    "# keywords: zip*\n",
    "x,y=map(list,zip(*top_tweet_bigrams))\n",
    "\n",
    "#checking \n",
    "print(x)\n",
    "print(y)"
   ]
  },
  {
   "cell_type": "code",
   "execution_count": 46,
   "metadata": {},
   "outputs": [
    {
     "data": {
      "text/plain": [
       "<matplotlib.axes._subplots.AxesSubplot at 0x7ff423ddafd0>"
      ]
     },
     "execution_count": 46,
     "metadata": {},
     "output_type": "execute_result"
    },
    {
     "data": {
      "image/png": "[encoded data removed]",
      "text/plain": [
       "<Figure size 720x360 with 1 Axes>"
      ]
     },
     "metadata": {},
     "output_type": "display_data"
    }
   ],
   "source": [
    "#initialize a figure of figsize (10,5) using pyplot\n",
    "plt.figure(figsize=(10,5))\n",
    "\n",
    "# create a barplot using seaborn where the x axis represents the counts and the y axis\n",
    "# represents the word-pairs\n",
    "sns.barplot(x=y,y=x)"
   ]
  },
  {
   "cell_type": "markdown",
   "metadata": {},
   "source": [
    "We will need lot of cleaning here.."
   ]
  },
  {
   "cell_type": "code",
   "execution_count": null,
   "metadata": {},
   "outputs": [],
   "source": []
  }
 ],
 "metadata": {
  "kernelspec": {
   "display_name": "Python 3",
   "language": "python",
   "name": "python3"
  },
  "language_info": {
   "codemirror_mode": {
    "name": "ipython",
    "version": 3
   },
   "file_extension": ".py",
   "mimetype": "text/x-python",
   "name": "python",
   "nbconvert_exporter": "python",
   "pygments_lexer": "ipython3",
   "version": "3.6.10"
  }
 },
 "nbformat": 4,
 "nbformat_minor": 1
}
