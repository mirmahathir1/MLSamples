{
 "cells": [
  {
   "cell_type": "code",
   "execution_count": 1,
   "metadata": {},
   "outputs": [
    {
     "name": "stderr",
     "output_type": "stream",
     "text": [
      "Using TensorFlow backend.\n"
     ]
    }
   ],
   "source": [
    "import keras\n",
    "\n",
    "class CustomSaver(keras.callbacks.Callback):\n",
    "    def on_epoch_end(self, epoch, logs={}):\n",
    "        if epoch % 2 == 0:  # or save after some epoch, each k-th epoch etc.\n",
    "            self.model.save(\"draft_models/model_{}\".format(epoch))"
   ]
  },
  {
   "cell_type": "code",
   "execution_count": null,
   "metadata": {},
   "outputs": [],
   "source": [
    "import numpy as np\n",
    "\n",
    "inp = keras.layers.Input(shape=(10,))\n",
    "dense = keras.layers.Dense(10, activation='relu')(inp)\n",
    "out = keras.layers.Dense(1, activation='sigmoid')(dense)\n",
    "model = keras.models.Model(inp, out)\n",
    "model.compile(optimizer=\"adam\", loss=\"binary_crossentropy\",)\n",
    "\n",
    "# Just a noise data for fast working example\n",
    "X = np.random.normal(0, 1, (1000, 10))\n",
    "y = np.random.randint(0, 2, 1000)\n",
    "\n",
    "# create and use callback:\n",
    "saver = CustomSaver()\n",
    "model.fit(X, y, callbacks=[saver], epochs=5)"
   ]
  },
  {
   "cell_type": "code",
   "execution_count": 20,
   "metadata": {},
   "outputs": [
    {
     "name": "stdout",
     "output_type": "stream",
     "text": [
      "Epoch 1/5\n",
      "1000/1000 [==============================] - 0s 79us/step - loss: 0.6885\n",
      "Epoch 2/5\n",
      "1000/1000 [==============================] - 0s 71us/step - loss: 0.6883\n",
      "Epoch 3/5\n",
      "1000/1000 [==============================] - 0s 70us/step - loss: 0.6881\n",
      "Epoch 4/5\n",
      "1000/1000 [==============================] - 0s 76us/step - loss: 0.6880\n",
      "Epoch 5/5\n",
      "1000/1000 [==============================] - 0s 73us/step - loss: 0.6876\n"
     ]
    },
    {
     "data": {
      "text/plain": [
       "<keras.callbacks.callbacks.History at 0x7fe80415b588>"
      ]
     },
     "execution_count": 20,
     "metadata": {},
     "output_type": "execute_result"
    }
   ],
   "source": [
    "model.fit(X, y, callbacks=[saver], epochs=5)"
   ]
  },
  {
   "cell_type": "code",
   "execution_count": 19,
   "metadata": {},
   "outputs": [],
   "source": [
    "import tensorflow as tf\n",
    "model=tf.keras.models.load_model('draft_models/model_2')"
   ]
  },
  {
   "cell_type": "code",
   "execution_count": null,
   "metadata": {},
   "outputs": [],
   "source": []
  }
 ],
 "metadata": {
  "kernelspec": {
   "display_name": "Python 3",
   "language": "python",
   "name": "python3"
  },
  "language_info": {
   "codemirror_mode": {
    "name": "ipython",
    "version": 3
   },
   "file_extension": ".py",
   "mimetype": "text/x-python",
   "name": "python",
   "nbconvert_exporter": "python",
   "pygments_lexer": "ipython3",
   "version": "3.6.10"
  }
 },
 "nbformat": 4,
 "nbformat_minor": 4
}
